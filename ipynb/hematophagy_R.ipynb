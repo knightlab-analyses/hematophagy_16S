{
 "cells": [
  {
   "cell_type": "markdown",
   "metadata": {},
   "source": [
    "## Goal\n",
    "-  load metadata and unweighted unifrac distance matrix into R\n",
    "-  calculate permanova (vegan::adonis) and dispersion stats (vegan::betadisper); NOTE:values and plots will differ with each rarefaction\n",
    "-  plot differentially abundant ASVs, KOs, and pathways identified by ANCOM"
   ]
  },
  {
   "cell_type": "code",
   "execution_count": null,
   "metadata": {},
   "outputs": [],
   "source": [
    "#load necessary R packages\n",
    "library(dplyr)\n",
    "library(vegan)\n",
    "library(ggplot2)\n",
    "library(data.table)\n",
    "library(ggsignif)\n",
    "library(ggpubr)"
   ]
  },
  {
   "cell_type": "code",
   "execution_count": null,
   "metadata": {},
   "outputs": [],
   "source": [
    "#file locations\n",
    "metadata_file = './analysis/TableS1_metadata2.txt'\n",
    "unifrac_file = './analysis/bdiv/unw_unifrac.tsv'"
   ]
  },
  {
   "cell_type": "code",
   "execution_count": null,
   "metadata": {},
   "outputs": [],
   "source": [
    "#load files as dataframes\n",
    "metadata = read.table(metadata_file, sep='\\t', header=TRUE, check=F)\n",
    "udm = read.table(unifrac_file, h=T, row.names=1, check=F)"
   ]
  },
  {
   "cell_type": "code",
   "execution_count": null,
   "metadata": {},
   "outputs": [],
   "source": [
    "birds <- subset(metadata, Taxonomy_Genus==\"Geospiza\")\n",
    "birds <- droplevels(birds)\n",
    "bats <- subset(metadata, Taxonomy_Family==\"Phyllostomidae\")\n",
    "bats <- droplevels(bats)"
   ]
  },
  {
   "cell_type": "code",
   "execution_count": null,
   "metadata": {},
   "outputs": [],
   "source": [
    "#adonis functions using distance matrix as input\n",
    "\n",
    "do_adonis_1factor <- function(metadata, dm, factor1) { \n",
    "  ix <- intersect(metadata$SampleID,rownames(dm))\n",
    "  dist <- dm[ix,ix]\n",
    "  dist <- as.matrix(dist)\n",
    "  dist <- as.dist(dist)\n",
    "  y <- adonis(dist~factor1)\n",
    "  return(y)\n",
    "}\n",
    "\n",
    "do_adonis_2factor <- function(metadata, dm, factor1, factor2) { \n",
    "  ix <- intersect(metadata$SampleID,rownames(dm))\n",
    "  dist <- dm[ix,ix]\n",
    "  dist <- as.matrix(dist)\n",
    "  dist <- as.dist(dist)\n",
    "  y <- adonis(dist~factor1*factor2)\n",
    "  return(y)\n",
    "}\n",
    "\n",
    "do_adonis_3factor <- function(metadata, dm, factor1, factor2, factor3) { \n",
    "  ix <- intersect(metadata$SampleID,rownames(dm))\n",
    "  dist <- dm[ix,ix]\n",
    "  dist <- as.matrix(dist)\n",
    "  dist <- as.dist(dist)\n",
    "  y <- adonis(dist~factor1+factor2+factor3)\n",
    "  return(y)\n",
    "}"
   ]
  },
  {
   "cell_type": "code",
   "execution_count": null,
   "metadata": {},
   "outputs": [],
   "source": [
    "#run adonis\n",
    "birdbat_1 <- do_adonis_1factor(metadata, udm, metadata$hematophagous)\n",
    "birdbat_1\n",
    "\n",
    "birdbat_2 <- do_adonis_2factor(metadata, udm, metadata$Taxonomy_Family, metadata$hematophagous)\n",
    "birdbat_2"
   ]
  },
  {
   "cell_type": "code",
   "execution_count": null,
   "metadata": {},
   "outputs": [],
   "source": [
    "bats_3 <- do_adonis_3factor(bats, udm, bats$country, bats$sample_type, bats$hematophagous)\n",
    "bats_3"
   ]
  },
  {
   "cell_type": "code",
   "execution_count": null,
   "metadata": {},
   "outputs": [],
   "source": [
    "birds_1 <- do_adonis_1factor(birds, udm, birds$hematophagous)\n",
    "birds_1"
   ]
  },
  {
   "cell_type": "code",
   "execution_count": null,
   "metadata": {},
   "outputs": [],
   "source": [
    "#betadisper function\n",
    "do_betadisper <- function(metadata,dm,factor1) { \n",
    "  ix <- intersect(metadata$SampleID,rownames(dm))\n",
    "  dist <- dm[ix,ix]\n",
    "  dist <- as.matrix(dist)\n",
    "  dist <- as.dist(dist)\n",
    "  y <- betadisper(dist, factor1, type = \"centroid\")\n",
    "  return(y)\n",
    "}"
   ]
  },
  {
   "cell_type": "code",
   "execution_count": null,
   "metadata": {},
   "outputs": [],
   "source": [
    "#check dispersion\n",
    "birdbat_feeding <- do_betadisper(metadata,udm, metadata$hematophagous)\n",
    "anova(birdbat_feeding)\n",
    "plot(birdbat_feeding,axes=c(1,3))\n",
    "\n",
    "birdbat_taxon <- do_betadisper(metadata,udm, metadata$Taxonomy_Family)\n",
    "anova(birdbat_taxon)\n",
    "plot(birdbat_taxon,axes=c(1,2))"
   ]
  },
  {
   "cell_type": "code",
   "execution_count": null,
   "metadata": {},
   "outputs": [],
   "source": [
    "bats_feeding <- do_betadisper(bats, udm, bats$hematophagous)\n",
    "anova(bats_feeding)\n",
    "plot(bats_feeding)\n",
    "\n",
    "bats_country <- do_betadisper(bats, udm, bats$country)\n",
    "anova(bats_country)\n",
    "plot(bats_country)\n",
    "\n",
    "bats_sample <- do_betadisper(bats, udm, bats$sample_type)\n",
    "anova(bats_sample)\n",
    "plot(bats_sample)"
   ]
  },
  {
   "cell_type": "code",
   "execution_count": null,
   "metadata": {},
   "outputs": [],
   "source": [
    "birds_feeding <- do_betadisper(birds, udm, birds$hematophagous)\n",
    "anova(birds_feeding)\n",
    "plot(birds_feeding)"
   ]
  },
  {
   "cell_type": "markdown",
   "metadata": {},
   "source": [
    "## Plot ANCOM results"
   ]
  },
  {
   "cell_type": "markdown",
   "metadata": {},
   "source": [
    "### ASVs"
   ]
  },
  {
   "cell_type": "code",
   "execution_count": null,
   "metadata": {},
   "outputs": [],
   "source": [
    "# Read in ASVs feature table\n",
    "asv_filtered_file = './analysis/ancom/ancom_asv_feature-table.txt'\n",
    "features <- read.table(asv_filtered_file, header=TRUE, sep = '\\t', quote = \"\", comment.char = \"\", check.names=F)"
   ]
  },
  {
   "cell_type": "code",
   "execution_count": null,
   "metadata": {},
   "outputs": [],
   "source": [
    "#formatting\n",
    "features.df <- data.frame(t(features[1:dim(features)[1],2:dim(features)[2]]))\n",
    "\n",
    "colnames(features.df) <- make.names(t(features)[1,1:dim(features)[1]])\n",
    "features.df<-setDT(features.df, keep.rownames = TRUE)[]\n",
    "\n",
    "data.df.melt <- melt(features.df)\n",
    "colnames(data.df.melt)[1] <- \"SampleID\""
   ]
  },
  {
   "cell_type": "code",
   "execution_count": null,
   "metadata": {},
   "outputs": [],
   "source": [
    "#need to manually download csv file from Qiime2 visualization of the ASVs and pull taxonomy strings before continuing\n",
    "ancom_ASV_file = './analysis/ancom/ancom-results.txt'"
   ]
  },
  {
   "cell_type": "code",
   "execution_count": null,
   "metadata": {},
   "outputs": [],
   "source": [
    "ancom_asv = read.table(ancom_ASV_file, sep='\\t', header=TRUE, check=F)\n",
    "sig_asv.df.melt <- subset(data.df.melt, variable %in% ancom_asv$variable)"
   ]
  },
  {
   "cell_type": "code",
   "execution_count": null,
   "metadata": {},
   "outputs": [],
   "source": [
    "setDT(sig_asv.df.melt)[setDT(metadata), Taxonomy_Family := i.Taxonomy_Family, on=c(\"SampleID\")]\n",
    "setDT(sig_asv.df.melt)[setDT(metadata), hematophagous := i.hematophagous, on=c(\"SampleID\")]\n",
    "setDT(sig_asv.df.melt)[setDT(ancom_asv), ID_tax := i.ID_tax, on=c(\"variable\")]\n",
    "sig_asv.df.melt$percent <- sig_asv.df.melt$value/5000*100\n",
    "\n",
    "top8 <- subset(sig_asv.df.melt, ID_tax==\"ASV10_Chitinophagaceae\" | ID_tax==\"ASV02_Mycoplasmataceae\" | ID_tax==\"ASV06_Enterobacteriaceae\" | \n",
    "                    ID_tax==\"ASV07_Helicobacteraceae\" | ID_tax==\"ASV08_Helicobacteraceae\" | ID_tax==\"ASV12_\" | \n",
    "                    ID_tax==\"ASV15_Peptostreptococcaceae\" | ID_tax==\"ASV18_Comamonadaceae\" | ID_tax==\"ASV20_Fusobacteriaceae\" |\n",
    "                    ID_tax==\"ASV21_Deferribacteraceae\" | ID_tax==\"ASV22_Mycoplasmataceae\" | ID_tax==\"ASV23_Clostridiaceae\" | \n",
    "                    ID_tax==\"ASV24_Peptostreptococcaceae\" | ID_tax==\"ASV25_Bradyrhizobiaceae\" | ID_tax==\"ASV26_Lachnospiraceae\" | ID_tax==\"ASV29_Ruminococcaceae\")\n"
   ]
  },
  {
   "cell_type": "code",
   "execution_count": null,
   "metadata": {},
   "outputs": [],
   "source": [
    "ggplot(top8, aes(x=Taxonomy_Family, y=percent, fill=hematophagous)) +\n",
    "  geom_boxplot() +\n",
    "  facet_wrap(~ ID_tax, scales = 'free_y') +\n",
    "  stat_compare_means(label =  \"p.signif\", label.x = 1.5, method=\"wilcox.test\") +\n",
    "  xlab(\"Order\") +\n",
    "  ylab(\"Relative Abundance (%)\") +\n",
    "  theme(legend.text = element_text(size = 10)) +\n",
    "  scale_fill_manual(values=c(\"royalblue2\",\"firebrick3\"), name=\"Diet\", labels=c(\"not hematophagous\", \"hematophagous\")) +\n",
    "  theme(axis.text.x=element_text(angle=90,size=12), axis.text.y=element_text(size=12), axis.title.x=element_text(size=14, face='bold'), axis.title.y=element_text(size=14, face='bold')) "
   ]
  },
  {
   "cell_type": "code",
   "execution_count": null,
   "metadata": {},
   "outputs": [],
   "source": [
    "sigasvs <- sig_asv.df.melt[,c(\"Taxonomy_Family\",\"hematophagous\",\"variable\",\"value\")]\n",
    "aggdata <- group_by(sigasvs, variable, hematophagous, Taxonomy_Family)\n",
    "aggdata_summary <- summarize(aggdata, num=n(), mean=mean(value))\n",
    "write.table(aggdata_summary, \"./ancom/ancom_ASVs_mean_abundance.txt\", sep='\\t')"
   ]
  },
  {
   "cell_type": "markdown",
   "metadata": {},
   "source": [
    "### KOs"
   ]
  },
  {
   "cell_type": "code",
   "execution_count": null,
   "metadata": {},
   "outputs": [],
   "source": [
    "# Read in picrust KO results\n",
    "KO_file = './analysis/picrust/cr_d5k.metagenome_predictions.txt'\n",
    "features <- read.table(KO_file, header=TRUE, sep = '\\t', quote = \"\", comment.char = \"\", check.names=F)\n",
    "\n",
    "# Read in ancom detected KOs (downloaded from Qiime2 vizualization of the results)\n",
    "ancom_KO_file = './analysis/picrust/ancom/ancom_KOs.csv'"
   ]
  },
  {
   "cell_type": "code",
   "execution_count": null,
   "metadata": {},
   "outputs": [],
   "source": [
    "#formatting\n",
    "features.df <- data.frame(t(features[1:dim(features)[1],2:dim(features)[2]]))\n",
    "\n",
    "colnames(features.df) <- make.names(t(features)[1,1:dim(features)[1]])\n",
    "features.df<-setDT(features.df, keep.rownames = TRUE)[]\n",
    "\n",
    "data.df.melt <- melt(features.df)\n",
    "colnames(data.df.melt)[1] <- \"SampleID\""
   ]
  },
  {
   "cell_type": "code",
   "execution_count": null,
   "metadata": {},
   "outputs": [],
   "source": [
    "ancom_kos <- read.csv(ancom_KO_file, header=T)\n",
    "sig_kodata.df.melt <- subset(data.df.melt, variable %in% ancom_kos$variable)\n",
    "\n",
    "setDT(sig_kodata.df.melt)[setDT(metadata), Taxonomy_Family := i.Taxonomy_Family, on=c(\"SampleID\")]\n",
    "setDT(sig_kodata.df.melt)[setDT(metadata), hematophagous := i.hematophagous, on=c(\"SampleID\")]\n",
    "\n",
    "sigkos <- sig_kodata.df.melt[,c(\"Taxonomy_Family\",\"hematophagous\",\"variable\",\"value\")]\n",
    "\n",
    "setDT(sigkos)[setDT(ancom_kos), role := i.role.of.interest, on=c(\"variable\")]\n",
    "setDT(sigkos)[setDT(ancom_kos), group := i.Host.group, on=c(\"variable\")]"
   ]
  },
  {
   "cell_type": "code",
   "execution_count": null,
   "metadata": {},
   "outputs": [],
   "source": [
    "head(sigkos)"
   ]
  },
  {
   "cell_type": "code",
   "execution_count": null,
   "metadata": {},
   "outputs": [],
   "source": [
    "aggdata <- group_by(sigkos, variable, hematophagous, role, Taxonomy_Family)\n",
    "aggdata_summary <- summarize(aggdata, num=n(), mean=mean(value))\n",
    "write.table(aggdata_summary, \"./analysis/picrust/ancom/ancom_KOs_mean_abundance.txt\", sep='\\t')"
   ]
  },
  {
   "cell_type": "code",
   "execution_count": null,
   "metadata": {},
   "outputs": [],
   "source": [
    "head(aggdata_summary)"
   ]
  },
  {
   "cell_type": "code",
   "execution_count": null,
   "metadata": {},
   "outputs": [],
   "source": [
    "# manually rearrange aggdata_summary file and calculate mean difference per KO per host group \n",
    "# save new file as 'ancom_KOs_mean_difference.txt'\n",
    "aggdata_kos <- read.table('./analysis/picrust/ancom/ancom_KOs_mean_difference.txt', header=TRUE, sep = '\\t')\n",
    "                    \n",
    "ggplot(aggdata_kos, aes(x=variable, y=difference, fill=Taxonomy_Family)) +\n",
    "  geom_bar(stat=\"identity\", position=position_dodge()) +\n",
    "  facet_wrap(~role, scales = 'free_y', ncol=6) +\n",
    "  scale_fill_manual(values=c(\"darkorange2\",\"slateblue2\", \"springgreen3\")) +\n",
    "  ylab(\"Difference in Abundance\") +\n",
    "  xlab(\"KO\") +\n",
    "  coord_flip() +\n",
    "  theme(legend.text = element_text(size = 10))"
   ]
  },
  {
   "cell_type": "markdown",
   "metadata": {},
   "source": [
    "### KEGG pathways"
   ]
  },
  {
   "cell_type": "code",
   "execution_count": null,
   "metadata": {},
   "outputs": [],
   "source": [
    "# Read in picrust pathway results\n",
    "KEGG_file = './analysis/picrust/cr_d5k.metagenome_predictions.L3.txt'\n",
    "features <- read.table(KEGG_file, header=TRUE, sep = '\\t', quote = \"\", comment.char = \"\", check.names=F)\n",
    "\n",
    "# Read in ancom detected KOs (downloaded from Qiime2 vizualization of the results)\n",
    "ancom_KEGG_file = './analysis/picrust/ancom/ancom_L3.csv'"
   ]
  },
  {
   "cell_type": "code",
   "execution_count": null,
   "metadata": {},
   "outputs": [],
   "source": [
    "#formatting\n",
    "features.df <- data.frame(t(features[1:dim(features)[1],2:dim(features)[2]]))\n",
    "\n",
    "colnames(features.df) <- make.names(t(features)[1,1:dim(features)[1]])\n",
    "features.df<-setDT(features.df, keep.rownames = TRUE)[]\n",
    "\n",
    "data.df.melt <- melt(features.df)\n",
    "colnames(data.df.melt)[1] <- \"SampleID\""
   ]
  },
  {
   "cell_type": "code",
   "execution_count": null,
   "metadata": {},
   "outputs": [],
   "source": [
    "ancom_pways <- read.csv(ancom_KEGG_file, header=T)\n",
    "sig_pdata.df.melt <- subset(data.df.melt, variable %in% ancom_pways$variable)\n",
    "\n",
    "setDT(sig_pdata.df.melt)[setDT(metadata), Taxonomy_Family := i.Taxonomy_Family, on=c(\"SampleID\")]\n",
    "setDT(sig_pdata.df.melt)[setDT(metadata), hematophagous := i.hematophagous, on=c(\"SampleID\")]\n",
    "\n",
    "sigpways <- sig_pdata.df.melt[,c(\"Taxonomy_Family\",\"hematophagous\",\"variable\",\"value\")]\n",
    "aggdata <- group_by(sigpways, variable, hematophagous, Taxonomy_Family)\n",
    "aggdata_summary <- summarize(aggdata, num=n(), mean=mean(value))\n",
    "write.table(aggdata_summary, \"./analysis/picrust/ancom/ancom_KEGG_pathways_mean_abundance.txt\", sep='\\t')"
   ]
  },
  {
   "cell_type": "code",
   "execution_count": null,
   "metadata": {},
   "outputs": [],
   "source": [
    "forplot <- subset(sigpways, variable==\"Sporulation\" | variable==\"RIG.I.like.receptor.signaling.pathway\")\n",
    "forplot <- droplevels(forplot)\n",
    "\n",
    "ggplot(forplot, aes(x=Taxonomy_Family, y=value, fill=hematophagous)) +\n",
    "  geom_boxplot() +\n",
    "  stat_compare_means(label =  \"p.signif\", label.x = 1.5, method=\"wilcox.test\") +\n",
    "  facet_wrap(~ variable, scales = 'free_y') + \n",
    "  xlab(\"Host Family\") +\n",
    "  ylab(\"Predicted KEGG Pathway Abundance\") +\n",
    "  scale_fill_manual(values=c(\"royalblue2\",\"firebrick3\"), name=\"Diet\", labels=c(\"not hematophagous\", \"hematophagous\")) +\n",
    "  theme(legend.text = element_text(size = 10)) +\n",
    "  theme(axis.text.x=element_text(angle=90,size=12), axis.text.y=element_text(size=12), axis.title.x=element_text(size=14, face='bold'), axis.title.y=element_text(size=14, face='bold')) \n"
   ]
  },
  {
   "cell_type": "markdown",
   "metadata": {},
   "source": [
    "## Plot contributions of OTUs to KOs"
   ]
  },
  {
   "cell_type": "code",
   "execution_count": null,
   "metadata": {},
   "outputs": [],
   "source": [
    "#read in greengenes taxonomy table\n",
    "gg_tax_table_file = \"./gg_13_5_otus/taxonomy/97_otu_taxonomy.txt\"\n",
    "ggotus <- read.table(gg_tax_table_file, sep='\\t', header=T)\n",
    "\n",
    "otu_to_ko_file = \"./analysis/picrust/ko_metagenome_contributions.tsv\"\n",
    "ko_contrib <- read.table(otu_to_ko_file, sep='\\t', header=T)\n",
    "\n",
    "#pull in taxonomy and other metadata\n",
    "setDT(ko_contrib)[setDT(ggotus), taxonomy := i.taxonomy, on=c(\"otuid\")] #parse taxonomy string into levels (i.e. Phylum, Class, etc.)\n",
    "setDT(ko_contrib)[setDT(ancom_kos), role := i.role.of.interest, on=c(\"variable\")]\n",
    "#label the group(s) in which the KO was differentially abundant\n",
    "setDT(ko_contrib)[setDT(ancom_kos), group := i.Host.group, on=c(\"variable\")]\n",
    "setDT(ko_contrib)[setDT(metadata), Taxonomy_Family := i.Taxonomy_Family, on=c(\"SampleID\")]\n",
    "setDT(ko_contrib)[setDT(metadata), hematophagous := i.hematophagous, on=c(\"SampleID\")]"
   ]
  },
  {
   "cell_type": "code",
   "execution_count": null,
   "metadata": {},
   "outputs": [],
   "source": [
    "birds <- subset(ko_contrib, group==\"birds\" | group==\"bats and birds\")\n",
    "birds <- subset(birds, Taxonomy_Family==\"Thraupidae\")\n",
    "bats <- subset(ko_contrib, group==\"bats\" | group==\"bats and birds\")\n",
    "bats <- subset(bats, Taxonomy_Family==\"Phyllostomidae\")"
   ]
  },
  {
   "cell_type": "code",
   "execution_count": null,
   "metadata": {},
   "outputs": [],
   "source": [
    "a1 <- group_by(birds, variable, Family, role, Taxonomy_Family, hematophagous)\n",
    "bird_sum <- summarize(a1, num=n(), mean=mean(OTUAbundanceInSample))\n",
    "\n",
    "a2 <- group_by(bats, variable, Family, role, Taxonomy_Family, hematophagous)\n",
    "bat_sum <- summarize(a2, num=n(), mean=mean(OTUAbundanceInSample))\n",
    "\n",
    "#filtered to OTUs with a mean abundance of at least 50 (1% relative abundance given total of 5000)\n",
    "full <- rbind(filter(bird_sum,mean>=50),filter(bat_sum,mean>=50)) "
   ]
  },
  {
   "cell_type": "code",
   "execution_count": null,
   "metadata": {},
   "outputs": [],
   "source": [
    "ggplot(full, aes(x=hematophagous, y=mean, fill=Family)) +\n",
    "  geom_bar(position = \"stack\", stat = \"identity\") +\n",
    "  facet_wrap(~ Taxonomy_Family + role, ncol=5, scales='free_y') + \n",
    "  xlab(\"Hematophagous\") +\n",
    "  ylab(\"Mean abundance\") +\n",
    "  scale_fill_manual(values=c(\"#FFFF99\" ,\"#B15928\", \"#B2DF8A\", \"#33A02C\" ,\"#FB9A99\" ,\"#E31A1C\",\n",
    "  \"#FDBF6F\", \"#FF7F00\" ,\"#CAB2D6\" ,\"#6A3D9A\" ,\"#A6CEE3\",\"#1F78B4\")) +\n",
    "  theme(legend.text = element_text(size = 10)) +\n",
    "  theme(axis.text.x=element_text(angle=90,size=12), axis.text.y=element_text(size=12), axis.title.x=element_text(size=14, face='bold'), axis.title.y=element_text(size=14, face='bold')) \n"
   ]
  }
 ],
 "metadata": {
  "kernelspec": {
   "display_name": "R",
   "language": "R",
   "name": "ir"
  },
  "language_info": {
   "codemirror_mode": "r",
   "file_extension": ".r",
   "mimetype": "text/x-r-source",
   "name": "R",
   "pygments_lexer": "r",
   "version": "3.4.3"
  }
 },
 "nbformat": 4,
 "nbformat_minor": 2
}
