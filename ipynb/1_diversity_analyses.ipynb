{
 "cells": [
  {
   "cell_type": "markdown",
   "metadata": {},
   "source": [
    "## Goal\n",
    "-  import bioms from Qiita to Qiime2 format\n",
    "-  assign taxonomy to representative sequences\n",
    "-  generate phylogenetic tree\n",
    "-  calculate distance matrix (beta diversity) and plot PCoAs\n",
    "-  generate metagenome predictions\n",
    "-  find differentially abundant ASVs, KOs, and KEGG pathways\n",
    "\n",
    "### versions\n",
    "-  Qiime2 2018.6\n",
    "-  PICRUSt 1.1.3"
   ]
  },
  {
   "cell_type": "code",
   "execution_count": null,
   "metadata": {},
   "outputs": [],
   "source": [
    "import os"
   ]
  },
  {
   "cell_type": "code",
   "execution_count": null,
   "metadata": {},
   "outputs": [],
   "source": [
    "!pwd"
   ]
  },
  {
   "cell_type": "code",
   "execution_count": null,
   "metadata": {},
   "outputs": [],
   "source": [
    "#set file paths\n",
    "wd = \"/projects/templeton/subprojects/sanguivory/analysis\"\n",
    "\n",
    "map_file = os.path.abspath(\"./analysis/TableS1_metadata.txt\")"
   ]
  },
  {
   "cell_type": "code",
   "execution_count": null,
   "metadata": {},
   "outputs": [],
   "source": [
    "#import biom files downloaded from Qiita\n",
    "!for i in 56 70 5233 5238; \\\n",
    "do qiime tools import \\\n",
    "  --input-path /projects/templeton/subprojects/sanguivory/analysis/data/${i}.biom \\\n",
    "  --type 'FeatureTable[Frequency]' \\\n",
    "  --source-format BIOMV210Format \\\n",
    "  --output-path /projects/templeton/subprojects/sanguivory/analysis/data/${i}_biom.qza ; done"
   ]
  },
  {
   "cell_type": "code",
   "execution_count": null,
   "metadata": {},
   "outputs": [],
   "source": [
    "#import rep seq files downloaded from Qiita\n",
    "!for i in 56 70 5233 5238; \\\n",
    "do qiime tools import \\\n",
    "  --input-path /projects/templeton/subprojects/sanguivory/analysis/data/${i}.reference-hit.seqs.fa \\\n",
    "  --type 'FeatureData[Sequence]' \\\n",
    "  --output-path /projects/templeton/subprojects/sanguivory/analysis/data/${i}_repseq.qza ; done"
   ]
  },
  {
   "cell_type": "code",
   "execution_count": null,
   "metadata": {},
   "outputs": [],
   "source": [
    "#merge tables into one\n",
    "!qiime feature-table merge \\\n",
    "  --i-tables {wd}/data/56_biom.qza \\\n",
    "  --i-tables {wd}/data/70_biom.qza \\\n",
    "  --i-tables {wd}/data/5233_biom.qza \\\n",
    "  --i-tables {wd}/data/5238_biom.qza \\\n",
    "  --o-merged-table {wd}/data/merged-table.qza"
   ]
  },
  {
   "cell_type": "code",
   "execution_count": null,
   "metadata": {},
   "outputs": [],
   "source": [
    "#merge rep seq files into one\n",
    "!qiime feature-table merge-seqs \\\n",
    "  --i-data {wd}/data/56_repseq.qza \\\n",
    "  --i-data {wd}/data/70_repseq.qza \\\n",
    "  --i-data {wd}/data/5233_repseq.qza \\\n",
    "  --i-data {wd}/data/5238_repseq.qza \\\n",
    "  --o-merged-data {wd}/data/merged-repseqs.qza"
   ]
  },
  {
   "cell_type": "code",
   "execution_count": null,
   "metadata": {},
   "outputs": [],
   "source": [
    "#filter samples and repseqs to samples in the metadata file\n",
    "!qiime feature-table filter-samples \\\n",
    "  --i-table {wd}/data/merged-table.qza \\\n",
    "  --m-metadata-file {map_file} \\\n",
    "  --o-filtered-table {wd}/data/merged-table_metadata-matched.qza\n",
    "\n",
    "!qiime feature-table filter-seqs \\\n",
    "  --i-table {wd}/data/merged-table_metadata-matched.qza \\\n",
    "  --i-data {wd}/data/merged-repseqs.qza \\\n",
    "  --o-filtered-data {wd}/data/merged-repseqs-metadata-matched.qza\n"
   ]
  },
  {
   "cell_type": "code",
   "execution_count": null,
   "metadata": {},
   "outputs": [],
   "source": [
    "!mkdir {wd}/taxonomy\n",
    "!wget -o {wd}/taxonomy/gg-13-8-99-515-806-nb-classifier.qza https://data.qiime2.org/2018.11/common/gg-13-8-99-515-806-nb-classifier.qza"
   ]
  },
  {
   "cell_type": "code",
   "execution_count": null,
   "metadata": {},
   "outputs": [],
   "source": [
    "#classify taxonomy using a pretrained classifier on the Greengenes 13_8 database\n",
    "!echo \"qiime feature-classifier classify-sklearn \\\n",
    "  --i-classifier {wd}/taxonomy/gg-13-8-99-515-806-nb-classifier.qza \\\n",
    "  --i-reads {wd}/data/merged-repseqs-metadata-matched.qza \\\n",
    "  --o-classification {wd}/taxonomy/sk_gg_tax.qza\" | qsub -k eo -N sang_nb -l mem=8gb -l walltime=24:00:00 -V"
   ]
  },
  {
   "cell_type": "code",
   "execution_count": null,
   "metadata": {},
   "outputs": [],
   "source": [
    "#place 'novel' sequences into the Greengenes backbone tree\n",
    "!mkdir {wd}/tree\n",
    "!echo \"qiime fragment-insertion sepp \\\n",
    "  --i-representative-sequences {wd}/data/merged-repseqs-metadata-matched.qza \\\n",
    "  --o-tree {wd}/tree/insertion-tree.qza \\\n",
    "  --o-placements {wd}/tree/insertion-placements.qza \\\n",
    "  --p-threads 16\" | qsub -k eo -N sang_ins -l nodes=1:ppn=16 -l mem=128gb -l walltime=100:00:00 -V"
   ]
  },
  {
   "cell_type": "code",
   "execution_count": null,
   "metadata": {},
   "outputs": [],
   "source": [
    "#filter out Chloroplast and mitochondrial sequences\n",
    "!qiime taxa filter-table \\\n",
    "  --i-table {wd}/data/merged-table_metadata-matched.qza \\\n",
    "  --i-taxonomy {wd}/taxonomy/sk_gg_tax.qza \\\n",
    "  --p-exclude mitochondria,chloroplast \\\n",
    "  --o-filtered-table {wd}/data/merged-table_metadata-matched.nochloro-nomito.qza"
   ]
  },
  {
   "cell_type": "code",
   "execution_count": null,
   "metadata": {},
   "outputs": [],
   "source": [
    "#rarefy the feature table to 5000 seqs/sample\n",
    "#NOTE: each rarefaction will result in a slightly different dataset, which will affect all downstream analyses\n",
    "!qiime feature-table rarefy \\\n",
    "  --i-table {wd}/data/merged-table_metadata-matched.nochloro-nomito.qza \\\n",
    "  --p-sampling-depth 5000 \\\n",
    "  --o-rarefied-table {wd}/data/merged-table_metadata-matched.nochloro-nomito.d5k.qza"
   ]
  },
  {
   "cell_type": "code",
   "execution_count": null,
   "metadata": {},
   "outputs": [],
   "source": [
    "#calculate unifrac distance among samples\n",
    "!echo \"qiime diversity beta-phylogenetic \\\n",
    "  --i-phylogeny {wd}/tree/insertion-tree.qza \\\n",
    "  --i-table {wd}/data/merged-table_metadata-matched.nochloro-nomito.d5k.qza \\\n",
    "  --p-metric unweighted_unifrac \\\n",
    "  --o-distance-matrix {wd}/bdiv/unw_unifrac.qza\" \\\n",
    " | qsub -k eo -N uu -l pmem=8gb -l walltime=60:00:00 -V"
   ]
  },
  {
   "cell_type": "markdown",
   "metadata": {},
   "source": [
    "## PCoA plots of full dataset, and split into birds and bats"
   ]
  },
  {
   "cell_type": "code",
   "execution_count": null,
   "metadata": {},
   "outputs": [],
   "source": [
    "!qiime diversity filter-distance-matrix \\\n",
    "  --i-distance-matrix {wd}/bdiv/unw_unifrac.qza \\\n",
    "  --m-metadata-file {map_file} \\\n",
    "  --p-where \"Taxonomy_Order='Chiroptera'\" \\\n",
    "  --o-filtered-distance-matrix {wd}/bdiv/unw_unifrac_bats.qza\n",
    "\n",
    "!qiime diversity filter-distance-matrix \\\n",
    "  --i-distance-matrix {wd}/bdiv/unw_unifrac.qza \\\n",
    "  --m-metadata-file {map_file} \\\n",
    "  --p-where \"Taxonomy_Genus='Geospiza'\" \\\n",
    "  --o-filtered-distance-matrix {wd}/bdiv/unw_unifrac_birds.qza"
   ]
  },
  {
   "cell_type": "code",
   "execution_count": null,
   "metadata": {},
   "outputs": [],
   "source": [
    "!qiime diversity pcoa \\\n",
    "  --i-distance-matrix {wd}/bdiv/unw_unifrac.qza \\\n",
    "  --o-pcoa {wd}/bdiv/pcoa_unw_unifrac.qza\n",
    "\n",
    "!qiime diversity pcoa \\\n",
    "  --i-distance-matrix {wd}/bdiv/unw_unifrac_bats.qza \\\n",
    "  --o-pcoa {wd}/bdiv/pcoa_unw_unifrac_bats.qza\n",
    "\n",
    "!qiime diversity pcoa \\\n",
    "  --i-distance-matrix {wd}/bdiv/unw_unifrac_birds.qza \\\n",
    "  --o-pcoa {wd}/bdiv/pcoa_unw_unifrac_birds.qza"
   ]
  },
  {
   "cell_type": "code",
   "execution_count": null,
   "metadata": {},
   "outputs": [],
   "source": [
    "!qiime emperor plot \\\n",
    "  --i-pcoa {wd}/bdiv/pcoa_unw_unifrac.qza \\\n",
    "  --m-metadata-file {map_file} \\\n",
    "  --o-visualization {wd}/bdiv/plot_pcoa_unw_unifrac.qza\n",
    "\n",
    "!qiime emperor plot \\\n",
    "  --i-pcoa {wd}/bdiv/pcoa_unw_unifrac_bats.qza \\\n",
    "  --m-metadata-file {map_file} \\\n",
    "  --o-visualization {wd}/bdiv/plot_pcoa_unw_unifrac_bats.qza\n",
    "\n",
    "!qiime emperor plot \\\n",
    "  --i-pcoa {wd}/bdiv/pcoa_unw_unifrac_birds.qza \\\n",
    "  --m-metadata-file {map_file} \\\n",
    "  --o-visualization {wd}/bdiv/plot_pcoa_unw_unifrac_birds.qza"
   ]
  },
  {
   "cell_type": "markdown",
   "metadata": {},
   "source": [
    "## PICRUST"
   ]
  },
  {
   "cell_type": "code",
   "execution_count": null,
   "metadata": {},
   "outputs": [],
   "source": [
    "!qiime feature-table filter-seqs \\\n",
    "  --i-data {wd}/data/merged-repseqs-metadata-matched.qza \\\n",
    "  --i-table {wd}/data/merged-table_metadata-matched.nochloro-nomito.qza \\\n",
    "  --o-filtered-data {wd}/data/merged-repseqs-metadata-matched.nochloro-nomito.qza"
   ]
  },
  {
   "cell_type": "code",
   "execution_count": null,
   "metadata": {},
   "outputs": [],
   "source": [
    "#perform closed reference OTU picking using the deblurred sequences to be used in PICRUSt\n",
    "#recommended reference is Greengenes version 13_5\n",
    "!echo \"qiime vsearch cluster-features-closed-reference \\\n",
    "  --i-sequences {wd}/data/merged-repseqs-metadata-matched.nochloro-nomito.qza \\\n",
    "  --i-table {wd}/data/merged-table_metadata-matched.nochloro-nomito.qza \\\n",
    "  --i-reference-sequences /home/ssong/bin/gg_13_5_otus/rep_set/gg_13_5_otu_99.qza \\\n",
    "  --p-perc-identity 1 \\\n",
    "  --p-threads 16 \\\n",
    "  --output-dir {wd}/closed_ref_gg13_5\" \\\n",
    " | qsub -k eo -N sang_cr -l nodes=1:ppn=16 -l mem=64gb -l walltime=20:00:00 -V"
   ]
  },
  {
   "cell_type": "code",
   "execution_count": null,
   "metadata": {},
   "outputs": [],
   "source": [
    "#rarefy feature table to 5000 seqs/sample\n",
    "#NOTE: each rarefaction will result in a slightly different dataset, which will affect all downstream analyses\n",
    "!qiime feature-table rarefy \\\n",
    "  --i-table {wd}/closed_ref_gg13_5/clustered_table.qza \\\n",
    "  --p-sampling-depth 5000 \\\n",
    "  --o-rarefied-table {wd}/closed_ref_gg13_5/clustered_table.d5k.qza"
   ]
  },
  {
   "cell_type": "code",
   "execution_count": null,
   "metadata": {},
   "outputs": [],
   "source": [
    "#convert the Q2 artifact into a biom table (readable by PICRUSt)\n",
    "!qiime tools export \\\n",
    "  --input-path {wd}/closed_ref_gg13_5/clustered_table.d5k.qza \\\n",
    "  --output-path {wd}/closed_ref_gg13_5/biom/\n",
    "\n",
    "!biom convert \\\n",
    "  -i {wd}/closed_ref_gg13_5/biom/feature-table.biom \\\n",
    "  -o {wd}/closed_ref_gg13_5/clustered_table.d5k.biom \\\n",
    "  --to-json \\\n",
    "  --table-type \"OTU table\""
   ]
  },
  {
   "cell_type": "code",
   "execution_count": null,
   "metadata": {},
   "outputs": [],
   "source": [
    "!source deactivate"
   ]
  },
  {
   "cell_type": "code",
   "execution_count": null,
   "metadata": {},
   "outputs": [],
   "source": [
    "!source activate picrust"
   ]
  },
  {
   "cell_type": "code",
   "execution_count": null,
   "metadata": {},
   "outputs": [],
   "source": [
    "!mkdir {wd}/picrust"
   ]
  },
  {
   "cell_type": "code",
   "execution_count": null,
   "metadata": {},
   "outputs": [],
   "source": [
    "!normalize_by_copy_number.py \\\n",
    " -i {wd}/closed_ref_gg13_5/clustered_table.d5k.biom\\\n",
    " -o {wd}/picrust/cr_d5k.normalized_otus.biom\n",
    "\n",
    "!predict_metagenomes.py \\\n",
    " -i {wd}/picrust/cr_d5k.normalized_otus.biom \\\n",
    " -o {wd}/picrust/cr_d5k.metagenome_predictions.biom \\\n",
    " -a {wd}/picrust/cr_d5k.nsti_per_sample.txt\n",
    "\n",
    "!categorize_by_function.py \\\n",
    " -i {wd}/picrust/cr_d5k.metagenome_predictions.biom \\\n",
    " -c KEGG_Pathways -l 3 \\\n",
    " -o {wd}/picrust/cr_d5k.metagenome_predictions.L3.biom\n",
    "\n",
    "!categorize_by_function.py \\\n",
    " -i {wd}/picrust/cr_d5k.metagenome_predictions.biom \\\n",
    " -c KEGG_Pathways -l 2 \\\n",
    " -o {wd}/picrust/cr_d5k.metagenome_predictions.L2.biom"
   ]
  },
  {
   "cell_type": "code",
   "execution_count": null,
   "metadata": {},
   "outputs": [],
   "source": [
    "#import back into Qiime2 and split into birds and bats\n",
    "!qiime tools import \\\n",
    "  --input-path {wd}/picrust/cr_d5k.metagenome_predictions.biom \\\n",
    "  --output-path {wd}/picrust/cr_d5k.metagenome_predictions.qza \\\n",
    "  --type 'FeatureTable[Frequency]' \\\n",
    "  --input-format BIOMV210Format \\\n",
    "\n",
    "!qiime tools import \\\n",
    "  --input-path {wd}/picrust/cr_d5k.metagenome_predictions.L3.biom \\\n",
    "  --output-path {wd}/picrust/cr_d5k.metagenome_predictions.L3.qza \\\n",
    "  --type 'FeatureTable[Frequency]' \\\n",
    "  --input-format BIOMV210Format \\\n",
    "\n",
    "!qiime feature-table filter-samples \\\n",
    "  --i-table {wd}/picrust/cr_d5k.metagenome_predictions.qza \\\n",
    "  --m-metadata-file {map_file} \\\n",
    "  --p-where \"Taxonomy_Order='Chiroptera'\" \\\n",
    "  --o-filtered-table {wd}/picrust/cr_d5k.metagenome_predictions_bats.qza\n",
    "\n",
    "!qiime feature-table filter-samples \\\n",
    "  --i-table {wd}/picrust/cr_d5k.metagenome_predictions.qza \\\n",
    "  --m-metadata-file {map_file} \\\n",
    "  --p-where \"Taxonomy_Genus='Geospiza'\" \\\n",
    "  --o-filtered-table {wd}/picrust/cr_d5k.metagenome_predictions_birds.qza\n",
    "\n",
    "!qiime feature-table filter-samples \\\n",
    "  --i-table {wd}/picrust/cr_d5k.metagenome_predictions.L3.qza \\\n",
    "  --m-metadata-file {map_file} \\\n",
    "  --p-where \"Taxonomy_Order='Chiroptera'\" \\\n",
    "  --o-filtered-table {wd}/picrust/cr_d5k.metagenome_predictions_bats.L3.qza\n",
    "\n",
    "!qiime feature-table filter-samples \\\n",
    "  --i-table {wd}/picrust/cr_d5k.metagenome_predictions.qza \\\n",
    "  --m-metadata-file {map_file} \\\n",
    "  --p-where \"Taxonomy_Genus='Geospiza'\" \\\n",
    "  --o-filtered-table {wd}/picrust/cr_d5k.metagenome_predictions_birds.L3.qza"
   ]
  },
  {
   "cell_type": "markdown",
   "metadata": {},
   "source": [
    "## ANCOM for differential abundance testing"
   ]
  },
  {
   "cell_type": "code",
   "execution_count": null,
   "metadata": {},
   "outputs": [],
   "source": [
    "#using unrarefied data\n",
    "!qiime feature-table filter-samples \\\n",
    "  --i-table {wd}/data/merged-table_metadata-matched.nochloro-nomito.qza \\\n",
    "  --m-metadata-file {map_file} \\\n",
    "  --p-where \"Taxonomy_Order='Chiroptera'\" \\\n",
    "  --o-filtered-table {wd}/data/merged-table_metadata-matched.nochloro-nomito_bats.qza\n",
    "    \n",
    "!qiime feature-table filter-samples \\\n",
    "  --i-table {wd}/data/merged-table_metadata-matched.nochloro-nomito.qza \\\n",
    "  --m-metadata-file {map_file} \\\n",
    "  --p-where \"Taxonomy_Genus='Geospiza'\" \\\n",
    "  --o-filtered-table {wd}/data/merged-table_metadata-matched.nochloro-nomito_birds.qza"
   ]
  },
  {
   "cell_type": "code",
   "execution_count": null,
   "metadata": {},
   "outputs": [],
   "source": [
    "#ancom works on log ratios, and thus zeroes must not be present. \n",
    "#a pseudocount of 1 is added to everything\n",
    "!mkdir {wd}/ancom\n",
    "!qiime composition add-pseudocount \\\n",
    "  --i-table {wd}/data/merged-table_metadata-matched.nochloro-nomito_bats.qza \\\n",
    "  --o-composition-table {wd}/ancom/ancom_table_bats.qza\n",
    "\n",
    "!qiime composition add-pseudocount \\\n",
    "  --i-table {wd}/data/merged-table_metadata-matched.nochloro-nomito_birds.qza \\\n",
    "  --o-composition-table {wd}/ancom/ancom_table_birds.qza"
   ]
  },
  {
   "cell_type": "code",
   "execution_count": null,
   "metadata": {},
   "outputs": [],
   "source": [
    "!mkdir {wd}/picrust/ancom\n",
    "!qiime composition add-pseudocount \\\n",
    "  --i-table {wd}/picrust/cr_d5k.metagenome_predictions_bats.qza \\\n",
    "  --o-composition-table {wd}/picrust/ancom/ancom_table_bats.qza\n",
    "\n",
    "!qiime composition add-pseudocount \\\n",
    "  --i-table {wd}/picrust/cr_d5k.metagenome_predictions_birds.qza \\\n",
    "  --o-composition-table {wd}/picrust/ancom/ancom_table_birds.qza\n",
    "\n",
    "!qiime composition add-pseudocount \\\n",
    "  --i-table {wd}/picrust/cr_d5k.metagenome_predictions_bats.L3.qza \\\n",
    "  --o-composition-table {wd}/picrust/ancom/ancom_table_bats.L3.qza\n",
    "\n",
    "!qiime composition add-pseudocount \\\n",
    "  --i-table {wd}/picrust/cr_d5k.metagenome_predictions_birds.L3.qza \\\n",
    "  --o-composition-table {wd}/picrust/ancom/ancom_table_birds.L3.qza"
   ]
  },
  {
   "cell_type": "code",
   "execution_count": null,
   "metadata": {},
   "outputs": [],
   "source": [
    "#identify sequences that are differentially abundant between hematophagous and non-hematophagous bats and birds\n",
    "!echo \"qiime composition ancom \\\n",
    "  --i-table {wd}/ancom/ancom_table_bats.qza \\\n",
    "  --m-metadata-file {map_file} \\\n",
    "  --m-metadata-column hematophagous \\\n",
    "  --o-visualization {wd}/ancom/ancom-results.bats.qzv\" \\\n",
    " | qsub -k eo -N bat_ancom -l pmem=32gb -l walltime=200:00:00 -V\n",
    "        \n",
    "!echo \"qiime composition ancom \\\n",
    "  --i-table {wd}/ancom/ancom_table_birds.qza \\\n",
    "  --m-metadata-file {map_file} \\\n",
    "  --m-metadata-column hematophagous \\\n",
    "  --o-visualization {wd}/ancom/ancom-results.birds.qzv\" \\\n",
    " | qsub -k eo -N bird_ancom -l pmem=32gb -l walltime=200:00:00 -V"
   ]
  },
  {
   "cell_type": "code",
   "execution_count": null,
   "metadata": {},
   "outputs": [],
   "source": [
    "#identify KOs and pathways that are differentially abundant\n",
    "!echo \"qiime composition ancom \\\n",
    "  --i-table {wd}/picrust/ancom/ancom_table_bats.qza \\\n",
    "  --m-metadata-file {map_file} \\\n",
    "  --m-metadata-column hematophagous \\\n",
    "  --o-visualization {wd}/picrust/ancom/ancom-results.bats.qzv\" \\\n",
    " | qsub -k eo -N pbat_ancom -l pmem=8gb -l walltime=20:00:00 -V\n",
    "        \n",
    "!echo \"qiime composition ancom \\\n",
    "  --i-table {wd}/picrust/ancom/ancom_table_birds.qza \\\n",
    "  --m-metadata-file {map_file} \\\n",
    "  --m-metadata-column hematophagous \\\n",
    "  --o-visualization {wd}/picrust/ancom/ancom-results.birds.qzv\" \\\n",
    " | qsub -k eo -N pbird_ancom -l pmem=8gb -l walltime=20:00:00 -V\n",
    "        \n",
    "!echo \"qiime composition ancom \\\n",
    "  --i-table {wd}/picrust/ancom/ancom_table_bats.L3.qza \\\n",
    "  --m-metadata-file {map_file} \\\n",
    "  --m-metadata-column hematophagous \\\n",
    "  --o-visualization {wd}/picrust/ancom/ancom-results.bats.L3.qzv\" \\\n",
    " | qsub -k eo -N pbatl3_ancom -l pmem=4gb -l walltime=10:00:00 -V\n",
    "        \n",
    "!echo \"qiime composition ancom \\\n",
    "  --i-table {wd}/picrust/ancom/ancom_table_birds.L3.qza \\\n",
    "  --m-metadata-file {map_file} \\\n",
    "  --m-metadata-column hematophagous \\\n",
    "  --o-visualization {wd}/picrust/ancom/ancom-results.birds.L3.qzv\" \\\n",
    " | qsub -k eo -N pbirdl3_ancom -l pmem=4gb -l walltime=10:00:00 -V"
   ]
  },
  {
   "cell_type": "markdown",
   "metadata": {},
   "source": [
    "#### view resulting pcoas and ancom visualizations in qiime2 viewer (view.qiime2.org)"
   ]
  },
  {
   "cell_type": "markdown",
   "metadata": {},
   "source": [
    "### use picrust to determine contributions of OTUs to the KOs identified by ANCOM"
   ]
  },
  {
   "cell_type": "code",
   "execution_count": null,
   "metadata": {},
   "outputs": [],
   "source": [
    "!metagenome_contributions.py \\\n",
    "  -i {wd}/picrust/cr_d5k.normalized_otus.biom \\\n",
    "  -l K07650,K10793,K10795,K10796,K01777,K05020,K06714,K07710,K10670,K10672,K12960,K01583,K12267,K08100,K00176,K00177,K00532,K00171,K00175,K00179,K00180,K10829,K00929,K01034,K00043,K01035,K01905,K02688,K09696,K09697,K03191,K14048 \\\n",
    "  -o {wd}/picrust/ko_metagenome_contributions.tsv\n"
   ]
  },
  {
   "cell_type": "code",
   "execution_count": null,
   "metadata": {},
   "outputs": [],
   "source": []
  }
 ],
 "metadata": {
  "kernelspec": {
   "display_name": "Python 3",
   "language": "python",
   "name": "python3"
  },
  "language_info": {
   "codemirror_mode": {
    "name": "ipython",
    "version": 3
   },
   "file_extension": ".py",
   "mimetype": "text/x-python",
   "name": "python",
   "nbconvert_exporter": "python",
   "pygments_lexer": "ipython3",
   "version": "3.7.0"
  }
 },
 "nbformat": 4,
 "nbformat_minor": 2
}
